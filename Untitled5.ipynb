{
  "nbformat": 4,
  "nbformat_minor": 0,
  "metadata": {
    "colab": {
      "provenance": [],
      "authorship_tag": "ABX9TyMK0MyRsKxYhnUd9P0oCN2a",
      "include_colab_link": true
    },
    "kernelspec": {
      "name": "python3",
      "display_name": "Python 3"
    },
    "language_info": {
      "name": "python"
    }
  },
  "cells": [
    {
      "cell_type": "markdown",
      "metadata": {
        "id": "view-in-github",
        "colab_type": "text"
      },
      "source": [
        "<a href=\"https://colab.research.google.com/github/Akash431299/Akash/blob/main/Untitled5.ipynb\" target=\"_parent\"><img src=\"https://colab.research.google.com/assets/colab-badge.svg\" alt=\"Open In Colab\"/></a>"
      ]
    },
    {
      "cell_type": "code",
      "execution_count": null,
      "metadata": {
        "id": "k643OG7wrsVc"
      },
      "outputs": [],
      "source": [
        "\n",
        "a=int(input (\"enter the first number\"))\n",
        "b=int(input (\"enter the second the number\"))\n",
        "o=str(input(\"enter the operator+,-,+,/\"))\n",
        "if(o==\"+\"):\n",
        "   print(\"sum of 2nums =\",a+b)"
      ]
    },
    {
      "cell_type": "code",
      "source": [
        "\n",
        "a=int(input(\"enter the 1st number\"))\n",
        "b=int(input(\"enter the 2nd number\"))\n",
        "o=str(input(\"enter the operator +,-,*,/\"))\n",
        "if(o==\"*\"):\n",
        "    print(\" product of 2 nums =\",a*b)"
      ],
      "metadata": {
        "colab": {
          "base_uri": "https://localhost:8080/"
        },
        "id": "EwXDzt1bshwZ",
        "outputId": "07ae9e67-16aa-4431-a97d-99ec07b46cd2"
      },
      "execution_count": 1,
      "outputs": [
        {
          "output_type": "stream",
          "name": "stdout",
          "text": [
            "enter the 1st number7\n",
            "enter the 2nd number7\n",
            "enter the operator +,-,*,/*\n",
            " product of 2 nums = 49\n"
          ]
        }
      ]
    },
    {
      "cell_type": "code",
      "source": [
        "\n",
        "a=int(input(\"Enter the number\"))\n",
        "if a%2==0:\n",
        "    print(\"Even\")\n",
        "\n",
        "else:\n",
        "    print(\"odd\")"
      ],
      "metadata": {
        "colab": {
          "base_uri": "https://localhost:8080/"
        },
        "id": "0HCYrEKhtaj9",
        "outputId": "f495f497-5db7-4a8a-b291-2b4a0d97aae1"
      },
      "execution_count": 5,
      "outputs": [
        {
          "output_type": "stream",
          "name": "stdout",
          "text": [
            "Enter the number3\n",
            "odd\n"
          ]
        }
      ]
    }
  ]
}